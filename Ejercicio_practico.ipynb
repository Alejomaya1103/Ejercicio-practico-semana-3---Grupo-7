{
 "cells": [
  {
   "cell_type": "code",
   "execution_count": 2,
   "id": "89bddc29",
   "metadata": {},
   "outputs": [],
   "source": [
    "import seaborn as sns\n",
    "import pandas as pd\n",
    "import matplotlib.pyplot as plt\n",
    "import plotly.express as px\n",
    "import plotly.graph_objects as go"
   ]
  },
  {
   "cell_type": "code",
   "execution_count": 4,
   "id": "c197d6b7",
   "metadata": {},
   "outputs": [
    {
     "name": "stdout",
     "output_type": "stream",
     "text": [
      "   ID               Name  Age  Gender          Location School_Grade  \\\n",
      "0   1    Shannon Francis   13  Female        Hansonfort          9th   \n",
      "1   2    Scott Rodriguez   17  Female      Theodorefort          7th   \n",
      "2   3        Adrian Knox   13   Other       Lindseystad         11th   \n",
      "3   4  Brittany Hamilton   18  Female      West Anthony         12th   \n",
      "4   5       Steven Smith   14   Other  Port Lindsaystad          9th   \n",
      "\n",
      "   Daily_Usage_Hours  Sleep_Hours  Academic_Performance  Social_Interactions  \\\n",
      "0                4.0          6.1                    78                    5   \n",
      "1                5.5          6.5                    70                    5   \n",
      "2                5.8          5.5                    93                    8   \n",
      "3                3.1          3.9                    78                    8   \n",
      "4                2.5          6.7                    56                    4   \n",
      "\n",
      "   ...  Screen_Time_Before_Bed  Phone_Checks_Per_Day  Apps_Used_Daily  \\\n",
      "0  ...                     1.4                    86               19   \n",
      "1  ...                     0.9                    96                9   \n",
      "2  ...                     0.5                   137                8   \n",
      "3  ...                     1.4                   128                7   \n",
      "4  ...                     1.0                    96               20   \n",
      "\n",
      "   Time_on_Social_Media  Time_on_Gaming  Time_on_Education  \\\n",
      "0                   3.6             1.7                1.2   \n",
      "1                   1.1             4.0                1.8   \n",
      "2                   0.3             1.5                0.4   \n",
      "3                   3.1             1.6                0.8   \n",
      "4                   2.6             0.9                1.1   \n",
      "\n",
      "   Phone_Usage_Purpose  Family_Communication  Weekend_Usage_Hours  \\\n",
      "0             Browsing                     4                  8.7   \n",
      "1             Browsing                     2                  5.3   \n",
      "2            Education                     6                  5.7   \n",
      "3         Social Media                     8                  3.0   \n",
      "4               Gaming                    10                  3.7   \n",
      "\n",
      "   Addiction_Level  \n",
      "0             10.0  \n",
      "1             10.0  \n",
      "2              9.2  \n",
      "3              9.8  \n",
      "4              8.6  \n",
      "\n",
      "[5 rows x 25 columns]\n"
     ]
    }
   ],
   "source": [
    "# Cargar dataset\n",
    "df = pd.read_csv(\"teen_phone_addiction_dataset.csv\")\n",
    "\n",
    "# Vista general\n",
    "print(df.head())"
   ]
  },
  {
   "cell_type": "code",
   "execution_count": 5,
   "id": "4a71b92d",
   "metadata": {},
   "outputs": [
    {
     "name": "stdout",
     "output_type": "stream",
     "text": [
      "<class 'pandas.core.frame.DataFrame'>\n",
      "RangeIndex: 3000 entries, 0 to 2999\n",
      "Data columns (total 25 columns):\n",
      " #   Column                  Non-Null Count  Dtype  \n",
      "---  ------                  --------------  -----  \n",
      " 0   ID                      3000 non-null   int64  \n",
      " 1   Name                    3000 non-null   object \n",
      " 2   Age                     3000 non-null   int64  \n",
      " 3   Gender                  3000 non-null   object \n",
      " 4   Location                3000 non-null   object \n",
      " 5   School_Grade            3000 non-null   object \n",
      " 6   Daily_Usage_Hours       3000 non-null   float64\n",
      " 7   Sleep_Hours             3000 non-null   float64\n",
      " 8   Academic_Performance    3000 non-null   int64  \n",
      " 9   Social_Interactions     3000 non-null   int64  \n",
      " 10  Exercise_Hours          3000 non-null   float64\n",
      " 11  Anxiety_Level           3000 non-null   int64  \n",
      " 12  Depression_Level        3000 non-null   int64  \n",
      " 13  Self_Esteem             3000 non-null   int64  \n",
      " 14  Parental_Control        3000 non-null   int64  \n",
      " 15  Screen_Time_Before_Bed  3000 non-null   float64\n",
      " 16  Phone_Checks_Per_Day    3000 non-null   int64  \n",
      " 17  Apps_Used_Daily         3000 non-null   int64  \n",
      " 18  Time_on_Social_Media    3000 non-null   float64\n",
      " 19  Time_on_Gaming          3000 non-null   float64\n",
      " 20  Time_on_Education       3000 non-null   float64\n",
      " 21  Phone_Usage_Purpose     3000 non-null   object \n",
      " 22  Family_Communication    3000 non-null   int64  \n",
      " 23  Weekend_Usage_Hours     3000 non-null   float64\n",
      " 24  Addiction_Level         3000 non-null   float64\n",
      "dtypes: float64(9), int64(11), object(5)\n",
      "memory usage: 586.1+ KB\n",
      "Index(['ID', 'Name', 'Age', 'Gender', 'Location', 'School_Grade',\n",
      "       'Daily_Usage_Hours', 'Sleep_Hours', 'Academic_Performance',\n",
      "       'Social_Interactions', 'Exercise_Hours', 'Anxiety_Level',\n",
      "       'Depression_Level', 'Self_Esteem', 'Parental_Control',\n",
      "       'Screen_Time_Before_Bed', 'Phone_Checks_Per_Day', 'Apps_Used_Daily',\n",
      "       'Time_on_Social_Media', 'Time_on_Gaming', 'Time_on_Education',\n",
      "       'Phone_Usage_Purpose', 'Family_Communication', 'Weekend_Usage_Hours',\n",
      "       'Addiction_Level'],\n",
      "      dtype='object')\n"
     ]
    }
   ],
   "source": [
    "# Ver estructura general\n",
    "df.info()\n",
    "\n",
    "# Ver estadísticas básicas de columnas numéricas\n",
    "df.describe()\n",
    "\n",
    "# Ver nombres exactos de columnas\n",
    "print(df.columns)\n",
    "\n",
    "# Para normalizar y eliminar posibles espacios\n",
    "df.columns = df.columns.str.lower().str.replace(' ', '_')"
   ]
  },
  {
   "cell_type": "code",
   "execution_count": 6,
   "id": "6aebeec7",
   "metadata": {},
   "outputs": [
    {
     "name": "stdout",
     "output_type": "stream",
     "text": [
      "['age', 'gender', 'daily_usage_hours', 'sleep_hours', 'academic_performance', 'exercise_hours', 'anxiety_level', 'apps_used_daily', 'time_on_social_media', 'time_on_gaming', 'addiction_level']\n"
     ]
    }
   ],
   "source": [
    "columnas_utiles = [\n",
    "    'age', 'gender', 'daily_usage_hours', 'sleep_hours',\n",
    "    'academic_performance', 'exercise_hours', 'anxiety_level',\n",
    "    'apps_used_daily', 'time_on_social_media', 'time_on_gaming',\n",
    "    'addiction_level'\n",
    "]\n",
    "\n",
    "df = df[columnas_utiles]\n",
    "print(df.columns.tolist())"
   ]
  },
  {
   "cell_type": "code",
   "execution_count": 7,
   "id": "29244436",
   "metadata": {},
   "outputs": [
    {
     "name": "stdout",
     "output_type": "stream",
     "text": [
      "Valores únicos en 'gender':\n",
      "['Female' 'Other' 'Male']\n",
      "\n",
      "Conteo por categoría:\n",
      "gender\n",
      "Male      1016\n",
      "Female    1007\n",
      "Other      977\n",
      "Name: count, dtype: int64\n"
     ]
    }
   ],
   "source": [
    "print(\"Valores únicos en 'gender':\")\n",
    "print(df['gender'].unique())\n",
    "\n",
    "print(\"\\nConteo por categoría:\")\n",
    "print(df['gender'].value_counts())"
   ]
  },
  {
   "cell_type": "code",
   "execution_count": 8,
   "id": "5d94ca0d",
   "metadata": {},
   "outputs": [
    {
     "name": "stdout",
     "output_type": "stream",
     "text": [
      "gender\n",
      "male      1016\n",
      "female    1007\n",
      "Name: count, dtype: int64\n"
     ]
    }
   ],
   "source": [
    "# Pasar a minúsculas y limpiar espacios\n",
    "df['gender'] = df['gender'].str.strip().str.lower()\n",
    "\n",
    "# Filtrar solo 'male' y 'female'\n",
    "df = df[df['gender'].isin(['male', 'female'])]\n",
    "\n",
    "# Verificar conteo final\n",
    "print(df['gender'].value_counts())"
   ]
  },
  {
   "cell_type": "code",
   "execution_count": 9,
   "id": "be529e98",
   "metadata": {},
   "outputs": [
    {
     "name": "stdout",
     "output_type": "stream",
     "text": [
      "               age  daily_usage_hours  sleep_hours  academic_performance  \\\n",
      "count  2023.000000        2023.000000  2023.000000           2023.000000   \n",
      "mean     16.004943           5.053584     6.501038             74.706377   \n",
      "std       1.988586           1.969979     1.502518             14.803954   \n",
      "min      13.000000           0.000000     3.000000             50.000000   \n",
      "25%      14.000000           3.700000     5.500000             62.000000   \n",
      "50%      16.000000           5.000000     6.500000             75.000000   \n",
      "75%      18.000000           6.400000     7.500000             88.000000   \n",
      "max      19.000000          11.200000    10.000000            100.000000   \n",
      "\n",
      "       exercise_hours  anxiety_level  apps_used_daily  time_on_social_media  \\\n",
      "count     2023.000000    2023.000000      2023.000000           2023.000000   \n",
      "mean         1.039199       5.589718        12.506673              2.502076   \n",
      "std          0.726175       2.862620         4.590968              0.975301   \n",
      "min          0.000000       1.000000         5.000000              0.000000   \n",
      "25%          0.500000       3.000000         9.000000              1.800000   \n",
      "50%          1.000000       6.000000        13.000000              2.500000   \n",
      "75%          1.500000       8.000000        16.500000              3.200000   \n",
      "max          3.600000      10.000000        20.000000              5.000000   \n",
      "\n",
      "       time_on_gaming  addiction_level  \n",
      "count     2023.000000      2023.000000  \n",
      "mean         1.565695         8.908799  \n",
      "std          0.935179         1.580620  \n",
      "min          0.000000         1.000000  \n",
      "25%          0.900000         8.100000  \n",
      "50%          1.500000        10.000000  \n",
      "75%          2.200000        10.000000  \n",
      "max          4.000000        10.000000  \n"
     ]
    }
   ],
   "source": [
    "print(df.describe())"
   ]
  },
  {
   "cell_type": "code",
   "execution_count": 10,
   "id": "4cfed5cf",
   "metadata": {},
   "outputs": [
    {
     "name": "stdout",
     "output_type": "stream",
     "text": [
      "age                       int64\n",
      "gender                   object\n",
      "daily_usage_hours       float64\n",
      "sleep_hours             float64\n",
      "academic_performance      int64\n",
      "exercise_hours          float64\n",
      "anxiety_level             int64\n",
      "apps_used_daily           int64\n",
      "time_on_social_media    float64\n",
      "time_on_gaming          float64\n",
      "addiction_level         float64\n",
      "dtype: object\n",
      "age                     0\n",
      "gender                  0\n",
      "daily_usage_hours       0\n",
      "sleep_hours             0\n",
      "academic_performance    0\n",
      "exercise_hours          0\n",
      "anxiety_level           0\n",
      "apps_used_daily         0\n",
      "time_on_social_media    0\n",
      "time_on_gaming          0\n",
      "addiction_level         0\n",
      "dtype: int64\n",
      "Duplicados: 0\n",
      "Empty DataFrame\n",
      "Columns: [age, gender, daily_usage_hours, sleep_hours, academic_performance, exercise_hours, anxiety_level, apps_used_daily, time_on_social_media, time_on_gaming, addiction_level]\n",
      "Index: []\n",
      "Empty DataFrame\n",
      "Columns: [age, gender, daily_usage_hours, sleep_hours, academic_performance, exercise_hours, anxiety_level, apps_used_daily, time_on_social_media, time_on_gaming, addiction_level]\n",
      "Index: []\n",
      "      age  gender  daily_usage_hours  sleep_hours  academic_performance  \\\n",
      "227    18  female               10.6          9.1                    93   \n",
      "474    17    male               10.2         10.0                    64   \n",
      "490    15    male               10.2          4.7                    83   \n",
      "582    16  female               10.5          8.0                    97   \n",
      "710    15    male               11.0          7.7                    59   \n",
      "1731   14  female               10.6          5.1                    94   \n",
      "2194   15  female               10.2          7.2                    95   \n",
      "2400   13    male               11.2          8.1                    55   \n",
      "2622   17  female               10.3          7.0                    57   \n",
      "2746   15    male               11.0          8.1                    75   \n",
      "2750   15  female               10.6          7.5                    81   \n",
      "2968   14    male               10.3          9.8                    86   \n",
      "\n",
      "      exercise_hours  anxiety_level  apps_used_daily  time_on_social_media  \\\n",
      "227              2.8             10                7                   3.7   \n",
      "474              2.0              2               17                   1.6   \n",
      "490              1.3              2               16                   2.7   \n",
      "582              2.2              7               16                   1.9   \n",
      "710              0.4              7               10                   1.6   \n",
      "1731             0.4              7               10                   1.7   \n",
      "2194             0.4              2                7                   3.5   \n",
      "2400             1.5              4               17                   3.6   \n",
      "2622             0.4              6               20                   3.9   \n",
      "2746             0.3              8               19                   3.2   \n",
      "2750             2.5              9               12                   1.1   \n",
      "2968             0.0              3                9                   2.9   \n",
      "\n",
      "      time_on_gaming  addiction_level  \n",
      "227              1.2             10.0  \n",
      "474              1.0             10.0  \n",
      "490              2.2             10.0  \n",
      "582              0.0             10.0  \n",
      "710              1.6             10.0  \n",
      "1731             0.0             10.0  \n",
      "2194             0.1             10.0  \n",
      "2400             2.4             10.0  \n",
      "2622             1.7             10.0  \n",
      "2746             4.0             10.0  \n",
      "2750             2.4             10.0  \n",
      "2968             0.7             10.0  \n",
      "      age  gender  daily_usage_hours  sleep_hours  academic_performance  \\\n",
      "3      18  female                3.1          3.9                    78   \n",
      "23     19    male                6.9          3.6                    79   \n",
      "73     19    male                6.3          3.0                    58   \n",
      "104    18  female                4.7          3.4                    71   \n",
      "113    15  female                6.9          3.9                    73   \n",
      "...   ...     ...                ...          ...                   ...   \n",
      "2784   15    male                5.4          3.6                    97   \n",
      "2832   18    male                9.4          3.0                    62   \n",
      "2867   15  female                3.5          3.2                    84   \n",
      "2922   17    male                4.7          3.9                    62   \n",
      "2983   14  female                7.0          3.5                    94   \n",
      "\n",
      "      exercise_hours  anxiety_level  apps_used_daily  time_on_social_media  \\\n",
      "3                1.6              9                7                   3.1   \n",
      "23               1.0              5                7                   2.0   \n",
      "73               1.1              5                6                   3.9   \n",
      "104              1.8              7                9                   0.1   \n",
      "113              2.2              1               16                   3.3   \n",
      "...              ...            ...              ...                   ...   \n",
      "2784             1.0              6               11                   2.6   \n",
      "2832             1.7             10               20                   1.5   \n",
      "2867             0.1              4               16                   1.9   \n",
      "2922             0.4              8               18                   3.7   \n",
      "2983             0.4              2               19                   4.4   \n",
      "\n",
      "      time_on_gaming  addiction_level  \n",
      "3                1.6              9.8  \n",
      "23               1.3             10.0  \n",
      "73               1.1             10.0  \n",
      "104              0.0              6.6  \n",
      "113              2.8             10.0  \n",
      "...              ...              ...  \n",
      "2784             0.4             10.0  \n",
      "2832             1.7             10.0  \n",
      "2867             1.0             10.0  \n",
      "2922             1.9             10.0  \n",
      "2983             1.6             10.0  \n",
      "\n",
      "[102 rows x 11 columns]\n"
     ]
    }
   ],
   "source": [
    "# Ver tipos de datos\n",
    "print(df.dtypes)\n",
    "\n",
    "# Verificar valores nulos\n",
    "print(df.isnull().sum())\n",
    "\n",
    "# Revisar duplicados\n",
    "print(f\"Duplicados: {df.duplicated().sum()}\")\n",
    "\n",
    "# Valores atípicos (ejemplo en edad)\n",
    "print(df[df['age'] < 13])\n",
    "print(df[df['age'] > 19])\n",
    "\n",
    "# Ejemplo: valores extremos en daily_usage_hours\n",
    "print(df[df['daily_usage_hours'] > 10])\n",
    "\n",
    "# Valores extremos en sleep_hours\n",
    "print(df[df['sleep_hours'] < 4])"
   ]
  },
  {
   "cell_type": "markdown",
   "id": "67bd42a0",
   "metadata": {},
   "source": [
    "Se realiza un analisis y se tiene la siguiente conclusión sobre el dataset:\n",
    "- No hay valores nulos.\n",
    "- No hay duplicados.\n",
    "- Todas las columnas tienen el tipo de dato correcto (`int64`, `float64`, `object` para `gender`).\n",
    "- Edad: entre 13 y 19 años → lógico para adolescentes.\n",
    "- Horas de uso diario: hasta 11.2 horas → alto pero realista.\n",
    "- Horas de sueño: mínimo 3 horas → posible en casos extremos.\n",
    "- `gender` estandarizado: solo `male` y `female` en minúsculas."
   ]
  },
  {
   "cell_type": "markdown",
   "id": "0876cf26",
   "metadata": {},
   "source": [
    "# Preparación del conjunto de datos\n",
    "\n",
    "Tras realizar un proceso de limpieza y verificación de calidad, se concluye que el DataFrame se encuentra en condiciones óptimas para proceder con el análisis exploratorio. Se eliminaron columnas irrelevantes, se estandarizaron las variables categóricas (como el género), y se confirmó la ausencia de valores nulos y registros duplicados. Además, se validaron los rangos de cada variable para asegurar su coherencia con el contexto del estudio. Por tanto, el conjunto de datos está listo para ser analizado mediante técnicas gráficas y estadísticas que permitan extraer patrones e insights relevantes."
   ]
  }
 ],
 "metadata": {
  "kernelspec": {
   "display_name": "alejo1",
   "language": "python",
   "name": "python3"
  },
  "language_info": {
   "codemirror_mode": {
    "name": "ipython",
    "version": 3
   },
   "file_extension": ".py",
   "mimetype": "text/x-python",
   "name": "python",
   "nbconvert_exporter": "python",
   "pygments_lexer": "ipython3",
   "version": "3.13.5"
  }
 },
 "nbformat": 4,
 "nbformat_minor": 5
}
